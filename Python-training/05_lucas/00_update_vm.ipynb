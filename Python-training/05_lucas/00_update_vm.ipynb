{
 "cells": [
  {
   "cell_type": "markdown",
   "id": "sublime-quantity",
   "metadata": {},
   "source": [
    "## 1. Update eumap library"
   ]
  },
  {
   "cell_type": "code",
   "execution_count": null,
   "id": "governing-omaha",
   "metadata": {},
   "outputs": [],
   "source": [
    "pip install -e 'git+https://gitlab.com/geoharmonizer_inea/eumap.git#egg=eumap[full]'"
   ]
  },
  {
   "cell_type": "markdown",
   "id": "designed-schema",
   "metadata": {},
   "source": [
    "## 2. Downgrade owslib to version 0.22\n",
    "\n",
    "See relevant [bug report](https://gitlab.com/geoharmonizer_inea/eumap/-/issues/13)."
   ]
  },
  {
   "cell_type": "code",
   "execution_count": null,
   "id": "reasonable-comfort",
   "metadata": {},
   "outputs": [],
   "source": [
    "pip install --upgrade owslib==0.22"
   ]
  }
 ],
 "metadata": {
  "kernelspec": {
   "display_name": "Python 3",
   "language": "python",
   "name": "python3"
  },
  "language_info": {
   "codemirror_mode": {
    "name": "ipython",
    "version": 3
   },
   "file_extension": ".py",
   "mimetype": "text/x-python",
   "name": "python",
   "nbconvert_exporter": "python",
   "pygments_lexer": "ipython3",
   "version": "3.9.2"
  }
 },
 "nbformat": 4,
 "nbformat_minor": 5
}
