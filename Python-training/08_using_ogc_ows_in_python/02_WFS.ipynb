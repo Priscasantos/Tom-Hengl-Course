{
 "cells": [
  {
   "cell_type": "markdown",
   "id": "d72934bb",
   "metadata": {},
   "source": [
    "## WFS\n",
    "The OGC Web Feature Service is used to download and share vector data. The most common exchange format is OGC GML."
   ]
  },
  {
   "cell_type": "markdown",
   "id": "d2a105a6",
   "metadata": {},
   "source": [
    "#### Connect to WFS and print some information about the service."
   ]
  },
  {
   "cell_type": "code",
   "execution_count": 4,
   "id": "bfe96827",
   "metadata": {},
   "outputs": [
    {
     "name": "stdout",
     "output_type": "stream",
     "text": [
      "WFS \n",
      " GeoServer Web Feature Service \n",
      " ['WFS, WMS, GEOSERVER'] \n",
      " NONE \n",
      " This is the reference implementation of WFS 1.0.0 and WFS 1.1.0, supports all WFS operations including Transaction.\n"
     ]
    }
   ],
   "source": [
    "from owslib.wfs import WebFeatureService\n",
    "\n",
    "url = \"http://lincalc-02.fsv.cvut.cz/geoserver/wfs\"\n",
    "\n",
    "wfs = WebFeatureService(url)\n",
    "print(wfs.provider.name, '\\n',\n",
    "      wfs.identification.title, '\\n',\n",
    "      wfs.identification.keywords, '\\n',\n",
    "      wfs.identification.fees, '\\n',\n",
    "      wfs.identification.abstract)"
   ]
  },
  {
   "cell_type": "markdown",
   "id": "c42dd42d",
   "metadata": {},
   "source": [
    "#### Get the service properties (Capabilities):"
   ]
  },
  {
   "cell_type": "code",
   "execution_count": 5,
   "id": "f0e4944d",
   "metadata": {},
   "outputs": [
    {
     "name": "stdout",
     "output_type": "stream",
     "text": [
      "http://lincalc-02.fsv.cvut.cz/geoserver/wfs?service=WFS&request=GetCapabilities&version=1.0.0\n"
     ]
    }
   ],
   "source": [
    "capabilities = wfs.getcapabilities()\n",
    "print(capabilities.geturl())"
   ]
  },
  {
   "cell_type": "markdown",
   "id": "9184dd38",
   "metadata": {},
   "source": [
    "#### Get the available layers."
   ]
  },
  {
   "cell_type": "code",
   "execution_count": 6,
   "id": "08890ed4",
   "metadata": {},
   "outputs": [
    {
     "name": "stdout",
     "output_type": "stream",
     "text": [
      "tiger:poly_landmarks\n",
      "tiger:poi\n",
      "tiger:tiger_roads\n",
      "sf:archsites\n",
      "sf:bugsites\n",
      "sf:restricted\n",
      "sf:roads\n",
      "sf:streams\n",
      "topp:tasmania_cities\n",
      "topp:tasmania_roads\n",
      "topp:tasmania_state_boundaries\n",
      "topp:tasmania_water_bodies\n",
      "topp:states\n",
      "tiger:giant_polygon\n",
      "lucas:lucas_points\n",
      "lucas:lucas_points_co\n",
      "lucas:lucas_points_co_base\n",
      "lucas:lucas_points_fo\n",
      "lucas:lucas_points_fo_base\n",
      "lucas:lucas_points_in\n",
      "lucas:lucas_points_in_base\n",
      "lucas:lucas_points_lc_lu\n",
      "lucas:lucas_points_lc_lu_base\n",
      "lucas:lucas_points_lc_lu_so\n",
      "lucas:lucas_points_lc_lu_so_base\n",
      "lucas:lucas_st_points\n",
      "lucas:lucas_st_points_co\n",
      "lucas:lucas_st_points_co_base\n",
      "lucas:lucas_st_points_fo\n",
      "lucas:lucas_st_points_fo_base\n",
      "lucas:lucas_st_points_in\n",
      "lucas:lucas_st_points_in_base\n",
      "lucas:lucas_st_points_lc_lu\n",
      "lucas:lucas_st_points_lc_lu_base\n",
      "lucas:lucas_st_points_lc_lu_so\n",
      "lucas:lucas_st_points_lc_lu_so_base\n"
     ]
    }
   ],
   "source": [
    "for rec in wfs.contents:\n",
    "    print(rec)"
   ]
  },
  {
   "cell_type": "markdown",
   "id": "39d70315",
   "metadata": {},
   "source": [
    "#### Download data based on given filter."
   ]
  },
  {
   "cell_type": "code",
   "execution_count": 8,
   "id": "c1939544",
   "metadata": {},
   "outputs": [],
   "source": [
    "from owslib.fes import PropertyIsLike\n",
    "from owslib.etree import etree\n",
    "\n",
    "identifier = 'lucas:lucas_points'\n",
    "\n",
    "filter = PropertyIsLike(propertyname='nuts0', literal='CZ')\n",
    "filterxml = etree.tostring(filter.toXML()).decode(\"utf-8\")\n",
    "response = wfs.getfeature([identifier], filter=filterxml)\n",
    "\n",
    "with open('data.gml', 'wb') as fd:\n",
    "    fd.write(response.read())"
   ]
  },
  {
   "cell_type": "markdown",
   "id": "adjacent-kelly",
   "metadata": {},
   "source": [
    "Task: display ``data.gml`` in QGIS software."
   ]
  }
 ],
 "metadata": {
  "kernelspec": {
   "display_name": "Python 3",
   "language": "python",
   "name": "python3"
  },
  "language_info": {
   "codemirror_mode": {
    "name": "ipython",
    "version": 3
   },
   "file_extension": ".py",
   "mimetype": "text/x-python",
   "name": "python",
   "nbconvert_exporter": "python",
   "pygments_lexer": "ipython3",
   "version": "3.9.2"
  }
 },
 "nbformat": 4,
 "nbformat_minor": 5
}
