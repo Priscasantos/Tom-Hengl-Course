{
 "cells": [
  {
   "cell_type": "markdown",
   "id": "4e5ce184",
   "metadata": {},
   "source": [
    "## OGC Web Services\n",
    "\n",
    "The [Open Geospatial Consortium](https://www.ogc.org/) (OGC) is an international standards organisation. Its members develop and maintain standards for spatial data and services. The most well-known OGC standards are the [Geography Markup Language](https://www.ogc.org/standards/gml) (OGC GML), [GeoPackage](https://www.geopackage.org/) (OGC GPKG) and the so-called Open Web Services (OGC OWS), which include [Web Mapping Service](https://www.ogc.org/standards/wms) (OGC WMS), [Web Feature Service](https://www.ogc.org/standards/wfs) (OGC WFS), [Web Coverage Service](https://www.ogc.org/standards/wcs) (OGC WCS) or [Web Processing Service](https://www.ogc.org/standards/wps) (OGC WPS).\n",
    "\n",
    "OGC OWS standards are based on server-client communication, where the client sends requests to the server. The server responds with an XML file. The request can either take the form of a special URL, where the individual parameters are separated by the & character, for example:\n",
    "\n",
    "https://geoserver.opendatascience.eu/geoserver/gh/wms?request=getcapabilities&service=wms\n",
    "\n",
    "In this case, we send 2 parameters: ``request`` has the value ``GetCapabilities`` and ``service`` has the value ``WMS``.\n",
    "\n",
    "Another option is to send the request to the server as an XML file, for example:\n",
    "\n",
    "`<wps:GetCapabilities xmlns:wps=\"http://www.opengis.net/wps/1.0.0\" ...>\n",
    "     <ows:Identifier>Buffer</ows:Identifier>\n",
    "</wps:Execute>`\n",
    "\n",
    "Dealing with OGC OWS can be complicated. Individual query entries vary with each version of the standards. This is one of the reasons why the [OWSLib](https://geopython.github.io/OWSLib/) library was created, which makes the life of programmers much easier.\n",
    "\n",
    "The OWSLib library is a Python interface to the OGC OWS. The library allows you to connect to and work with various services from the client position, regardless of the server implementation. The library currently supports WMS, WFS, WCS, CSW, WPS, SOS, WaterML and other standards (the list is still growing)."
   ]
  },
  {
   "cell_type": "markdown",
   "id": "0b2a711b",
   "metadata": {},
   "source": [
    "## CSW\n",
    "\n",
    "If we want to start using an OGC web service, we first need to know its address. Catalog services, where specialized servers maintain metadata records of web services and data files, are also being created for this purpose.\n",
    "\n",
    "Example: [ODSE Metadata Catalogue](https://data.opendatascience.eu/geonetwork/srv/eng/catalog.search#/home) performed by GeoNetwork."
   ]
  },
  {
   "cell_type": "markdown",
   "id": "aeafb6c8",
   "metadata": {},
   "source": [
    "#### Connect to catalogue and check the type of the service."
   ]
  },
  {
   "cell_type": "code",
   "execution_count": 1,
   "id": "1d4c4462",
   "metadata": {},
   "outputs": [
    {
     "name": "stdout",
     "output_type": "stream",
     "text": [
      "CSW\n"
     ]
    }
   ],
   "source": [
    "from owslib.csw import CatalogueServiceWeb\n",
    "\n",
    "url = \"https://data.opendatascience.eu/geonetwork/srv/eng/csw?service=csw&version=2.0.2\"\n",
    "csw = CatalogueServiceWeb(url)\n",
    "print(csw.service)"
   ]
  },
  {
   "cell_type": "markdown",
   "id": "5b56c085",
   "metadata": {},
   "source": [
    "#### Check the number of records available."
   ]
  },
  {
   "cell_type": "code",
   "execution_count": 2,
   "id": "3273ea4e",
   "metadata": {
    "scrolled": true
   },
   "outputs": [
    {
     "name": "stdout",
     "output_type": "stream",
     "text": [
      "{'matches': 143, 'returned': 10, 'nextrecord': 11}\n"
     ]
    }
   ],
   "source": [
    "csw.getrecords2()\n",
    "print(csw.results)"
   ]
  },
  {
   "cell_type": "markdown",
   "id": "8cc6c385",
   "metadata": {},
   "source": [
    "#### Get the titles of available layers."
   ]
  },
  {
   "cell_type": "code",
   "execution_count": 3,
   "id": "33d2910a",
   "metadata": {},
   "outputs": [
    {
     "name": "stdout",
     "output_type": "stream",
     "text": [
      "Short-term forecasting model ICON-D2\n",
      "OSM harbours\n",
      "PNV - Probability distribution for Quercus ilex\n",
      "OSM roads\n",
      "Glaciers and perpetual snow\n",
      "Port areas\n",
      "OSM Salt\n",
      "OSM Greenhouse\n",
      "RGB Landsat (yearly)\n",
      "CORINE Land Cover\n"
     ]
    }
   ],
   "source": [
    "# only first 10 records (!)\n",
    "for rec in csw.records:\n",
    "    print(csw.records[rec].title)"
   ]
  },
  {
   "cell_type": "code",
   "execution_count": 4,
   "id": "armed-matrix",
   "metadata": {},
   "outputs": [
    {
     "name": "stdout",
     "output_type": "stream",
     "text": [
      "Number of records: 143 \n",
      "First title: Short-term forecasting model ICON-D2 \n",
      "Last title: OpenStreetMap WMS\n"
     ]
    }
   ],
   "source": [
    "# loop over all selected records\n",
    "step = 10\n",
    "start_pos = 1\n",
    "titles = []\n",
    "while start_pos <= csw.results['matches']:\n",
    "    csw.getrecords2(startposition=start_pos)\n",
    "    for rec in csw.records:\n",
    "        titles.append(csw.records[rec].title)\n",
    "    start_pos += step\n",
    "    \n",
    "print(\n",
    "    \"Number of records:\", len(titles), '\\n'\n",
    "    \"First title:\", titles[0], '\\n'\n",
    "    \"Last title:\", titles[-1]\n",
    ")"
   ]
  },
  {
   "cell_type": "markdown",
   "id": "72702953",
   "metadata": {},
   "source": [
    "#### Find records by keyword.\n",
    "The filter `csw:AnyText` allows to find all records which contain anywhere the specific given string. In this case `'WMS'`."
   ]
  },
  {
   "cell_type": "code",
   "execution_count": 5,
   "id": "d3987925",
   "metadata": {},
   "outputs": [
    {
     "name": "stdout",
     "output_type": "stream",
     "text": [
      "{'matches': 115, 'returned': 10, 'nextrecord': 11}\n"
     ]
    }
   ],
   "source": [
    "from owslib.fes import PropertyIsEqualTo\n",
    "\n",
    "query = PropertyIsEqualTo('csw:AnyText', 'WMS')\n",
    "csw.getrecords2([query], esn='full')\n",
    "print(csw.results)"
   ]
  },
  {
   "cell_type": "markdown",
   "id": "f62c4461",
   "metadata": {},
   "source": [
    "#### Combine various filters.\n",
    "In this case we combine results from previous query with another one, which search all records with `'Land Cover'` in their titles."
   ]
  },
  {
   "cell_type": "code",
   "execution_count": 6,
   "id": "0b7bf94c",
   "metadata": {},
   "outputs": [
    {
     "name": "stdout",
     "output_type": "stream",
     "text": [
      "{'matches': 3, 'returned': 3, 'nextrecord': 0}\n"
     ]
    }
   ],
   "source": [
    "from owslib.fes import And\n",
    "lc_query = PropertyIsEqualTo('csw:title', 'Land Cover')\n",
    "lc_wms_query = And([query, lc_query])\n",
    "\n",
    "csw.getrecords2([lc_wms_query], esn='full') # esn defines verbosity\n",
    "\n",
    "print(csw.results)"
   ]
  },
  {
   "cell_type": "markdown",
   "id": "2f9c91d4",
   "metadata": {},
   "source": [
    "#### Print the ids and names of searched records."
   ]
  },
  {
   "cell_type": "code",
   "execution_count": 9,
   "id": "ff3ebc16",
   "metadata": {
    "scrolled": true
   },
   "outputs": [
    {
     "name": "stdout",
     "output_type": "stream",
     "text": [
      "ef733487-057f-440a-9d55-e4eac13f6fdc :  Land Cover 35.30 43.20 81.40 -11.50\n",
      "769814fa-077c-4d11-976e-0ccc7d9c7f08 :  CORINE Land Cover 35.30 43.20 81.40 -11.50\n",
      "be0010bb-bc1d-49a6-b6fc-f7ef488992a0 :  Land Cover Map of Europe 2017 34.00 32.00 72.00 -11.50\n"
     ]
    }
   ],
   "source": [
    "for recid in csw.records:\n",
    "    record = csw.records[recid]\n",
    "    print(record.identifier, ': ',\n",
    "          record.title,\n",
    "          record.bbox.minx, record.bbox.miny,\n",
    "          record.bbox.maxx, record.bbox.maxy)"
   ]
  },
  {
   "cell_type": "markdown",
   "id": "245cf479",
   "metadata": {},
   "source": [
    "#### Print available online resource of the given record."
   ]
  },
  {
   "cell_type": "code",
   "execution_count": 10,
   "id": "involved-solomon",
   "metadata": {},
   "outputs": [
    {
     "data": {
      "text/plain": [
       "[]"
      ]
     },
     "execution_count": 10,
     "metadata": {},
     "output_type": "execute_result"
    }
   ],
   "source": [
    "lc = csw.records['ef733487-057f-440a-9d55-e4eac13f6fdc']\n",
    "lc.references"
   ]
  },
  {
   "cell_type": "code",
   "execution_count": 11,
   "id": "4f6c9305",
   "metadata": {},
   "outputs": [
    {
     "name": "stdout",
     "output_type": "stream",
     "text": [
      "None\n",
      "https://s3.eu-central-1.wasabisys.com/eumap/lcv/lcv_landcover.hcl_lucas.corine.rf_p_30m_0..0cm_2005_eumap_epsg3035_v0.1.tif\n",
      "https://s3.eu-central-1.wasabisys.com/eumap/lcv/lcv_landcover.hcl_lucas.corine.rf_p_30m_0..0cm_2004_eumap_epsg3035_v0.1.tif\n",
      "https://s3.eu-central-1.wasabisys.com/eumap/lcv/lcv_landcover.hcl_lucas.corine.rf_p_30m_0..0cm_2003_eumap_epsg3035_v0.1.tif\n",
      "https://s3.eu-central-1.wasabisys.com/eumap/lcv/lcv_landcover.hcl_lucas.corine.rf_p_30m_0..0cm_2002_eumap_epsg3035_v0.1.tif\n",
      "https://s3.eu-central-1.wasabisys.com/eumap/lcv/lcv_landcover.hcl_lucas.corine.rf_p_30m_0..0cm_2001_eumap_epsg3035_v0.1.tif\n",
      "https://s3.eu-central-1.wasabisys.com/eumap/lcv/lcv_landcover.hcl_lucas.corine.rf_p_30m_0..0cm_2000_eumap_epsg3035_v0.1.tif\n",
      "https://s3.eu-central-1.wasabisys.com/eumap/lcv/lcv_landcover.hcl_lucas.corine.rf_p_30m_0..0cm_2011_eumap_epsg3035_v0.1.tif\n",
      "https://s3.eu-central-1.wasabisys.com/eumap/lcv/lcv_landcover.hcl_lucas.corine.rf_p_30m_0..0cm_2010_eumap_epsg3035_v0.1.tif\n",
      "https://s3.eu-central-1.wasabisys.com/eumap/lcv/lcv_landcover.hcl_lucas.corine.rf_p_30m_0..0cm_2009_eumap_epsg3035_v0.1.tif\n",
      "https://s3.eu-central-1.wasabisys.com/eumap/lcv/lcv_landcover.hcl_lucas.corine.rf_p_30m_0..0cm_2008_eumap_epsg3035_v0.1.tif\n",
      "https://s3.eu-central-1.wasabisys.com/eumap/lcv/lcv_landcover.hcl_lucas.corine.rf_p_30m_0..0cm_2007_eumap_epsg3035_v0.1.tif\n",
      "https://s3.eu-central-1.wasabisys.com/eumap/lcv/lcv_landcover.hcl_lucas.corine.rf_p_30m_0..0cm_2006_eumap_epsg3035_v0.1.tif\n",
      "https://s3.eu-central-1.wasabisys.com/eumap/lcv/lcv_landcover.hcl_lucas.corine.rf_p_30m_0..0cm_2019_eumap_epsg3035_v0.1.tif\n",
      "https://s3.eu-central-1.wasabisys.com/eumap/lcv/lcv_landcover.hcl_lucas.corine.rf_p_30m_0..0cm_2018_eumap_epsg3035_v0.1.tif\n",
      "https://s3.eu-central-1.wasabisys.com/eumap/lcv/lcv_landcover.hcl_lucas.corine.rf_p_30m_0..0cm_2017_eumap_epsg3035_v0.1.tif\n",
      "https://s3.eu-central-1.wasabisys.com/eumap/lcv/lcv_landcover.hcl_lucas.corine.rf_p_30m_0..0cm_2016_eumap_epsg3035_v0.1.tif\n",
      "https://s3.eu-central-1.wasabisys.com/eumap/lcv/lcv_landcover.hcl_lucas.corine.rf_p_30m_0..0cm_2015_eumap_epsg3035_v0.1.tif\n",
      "https://s3.eu-central-1.wasabisys.com/eumap/lcv/lcv_landcover.hcl_lucas.corine.rf_p_30m_0..0cm_2014_eumap_epsg3035_v0.1.tif\n",
      "https://s3.eu-central-1.wasabisys.com/eumap/lcv/lcv_landcover.hcl_lucas.corine.rf_p_30m_0..0cm_2013_eumap_epsg3035_v0.1.tif\n",
      "https://s3.eu-central-1.wasabisys.com/eumap/lcv/lcv_landcover.hcl_lucas.corine.rf_p_30m_0..0cm_2012_eumap_epsg3035_v0.1.tif\n"
     ]
    },
    {
     "name": "stderr",
     "output_type": "stream",
     "text": [
      "/home/martin/.local/lib/python3.9/site-packages/owslib/iso.py:118: FutureWarning: the .identification and .serviceidentification properties will merge into .identification being a list of properties.  This is currently implemented in .identificationinfo.  Please see https://github.com/geopython/OWSLib/issues/38 for more information\n",
      "  warnings.warn(\n",
      "/home/martin/.local/lib/python3.9/site-packages/owslib/iso.py:552: FutureWarning: The .keywords and .keywords2 properties will merge into the .keywords property in the future, with .keywords becoming a list of MD_Keywords instances. This is currently implemented in .keywords2. Please see https://github.com/geopython/OWSLib/issues/301 for more information\n",
      "  warnings.warn(\n"
     ]
    }
   ],
   "source": [
    "# Let's try ISO 19139 schema\n",
    "csw.getrecords2([lc_wms_query], esn='full',\n",
    "                typenames='gmd:MD_Metadata',\n",
    "                outputschema=\"http://www.isotc211.org/2005/gmd\")\n",
    "\n",
    "lc = csw.records['ef733487-057f-440a-9d55-e4eac13f6fdc']\n",
    "for ci in lc.distribution.online:\n",
    "    print(ci.url)"
   ]
  },
  {
   "cell_type": "markdown",
   "id": "1deacaa6",
   "metadata": {},
   "source": [
    "## WMS\n",
    "OGC Web Map Service is used to download and share map data. The server is not sending the actual data, but only a preview (image) of the data.\n",
    "\n",
    "Example [ODSE Mapserver](https://data.opendatascience.eu/geoserver/web/)"
   ]
  },
  {
   "cell_type": "markdown",
   "id": "13bbfe69",
   "metadata": {},
   "source": [
    "#### Connect to WMS and print the information about the service."
   ]
  },
  {
   "cell_type": "code",
   "execution_count": 12,
   "id": "32e8203b",
   "metadata": {},
   "outputs": [
    {
     "name": "stdout",
     "output_type": "stream",
     "text": [
      "GeoServer Web Map Service \n",
      " A compliant implementation of WMS plus most of the SLD extension (dynamic styling). Can also generate PDF, SVG, KML, GeoRSS \n",
      " The Ancient Geographers \n",
      " None\n"
     ]
    }
   ],
   "source": [
    "from owslib.wms import WebMapService\n",
    "\n",
    "url = \"https://geoserver.opendatascience.eu/geoserver/gh/wms\"\n",
    "\n",
    "wms = WebMapService(url)\n",
    "print(wms.identification.title, '\\n',\n",
    "      wms.identification.abstract, '\\n',\n",
    "      wms.provider.name, '\\n',\n",
    "      wms.provider.contact.address)"
   ]
  },
  {
   "cell_type": "markdown",
   "id": "86575d20",
   "metadata": {},
   "source": [
    "#### Print the names of all available layers."
   ]
  },
  {
   "cell_type": "code",
   "execution_count": 13,
   "id": "8ef157ea",
   "metadata": {},
   "outputs": [
    {
     "name": "stdout",
     "output_type": "stream",
     "text": [
      "NUTS_RG_01M_2021_4326_LEVL_3\n",
      "S2GLC_Europe_2017_v1.2_edited\n",
      "adm_county_nuts.osm_c_30m_0..0cm_2021_eumap_epsg3035_v0.1\n",
      "adm_protected.area_natura2000.osm_p_30m_0..0cm_2019..2021_eumap_epsg3035_v0.1\n",
      "clm-airXtemp-era5Xcopernicus-av-1km-200XX200cm--eumap-epsg3035-v0X1\n",
      "clm-airXtemp-era5Xcopernicus-mn-1km-200XX200cm--eumap-epsg3035-v0X1\n",
      "clm-airXtemp-era5Xcopernicus-mx-1km-200XX200cm--eumap-epsg3035-v0X1\n",
      "clm-prec-era5Xcopernicus-sum-1km-200XX200cm--eumap-epsg3035-v0X1\n",
      "clm-skinXtemp-era5Xcopernicus-av-1km-0XX0cm--eumap-epsg3035-v0X1\n",
      "clm-skinXtemp-era5Xcopernicus-mn-1km-0XX0cm--eumap-epsg3035-v0X1\n",
      "clm-skinXtemp-era5Xcopernicus-mx-1km-0XX0cm--eumap-epsg3035-v0X1\n",
      "dtm_elev.lowestmode_gedi.eml_md_30m_0..0cm_2000..2018_eumap_epsg3035_v0.3\n",
      "dtm_elev.lowestmode_gedi.eml_mf_30m_0..0cm_2000..2018_eumap_epsg3035_v0.3\n",
      "dtm_hillshade.a315_gedi.eml_mf_30m_0..0cm_2000..2018_eumap_epsg3035_v0.3\n",
      "dtm_slope.percent_gedi.eml_m_30m_0..0cm_2000..2018_eumap_epsg3035_v0.3\n",
      "dtm_topidx_gedi.eml_m_50m_0..0cm_2000..2018_eumap_epsg3035_v0.2\n",
      "dtm_vbf_gedi.saga.gis_m_100m_0..0cm_2000..2018_eumap_epsg3035_v0.2\n",
      "landsat_ard_20180625_20180912_p50_RGB_cog\n",
      "landsat_ard_20180625_20180912_p50_RGB_ssd\n",
      "lcv-landcoverX111-lucasXcorineXrf-md-30m\n",
      "lcv-landcoverX111-lucasXcorineXrf-p-30m\n",
      "lcv-landcoverX122-lucasXcorineXrf-md-30m\n",
      "lcv-landcoverX122-lucasXcorineXrf-p-30m\n",
      "lcv-landcoverX123-lucasXcorineXrf-md-30m\n",
      "lcv-landcoverX123-lucasXcorineXrf-p-30m\n",
      "lcv-landcoverX124-lucasXcorineXrf-md-30m\n",
      "lcv-landcoverX124-lucasXcorineXrf-p-30m\n",
      "lcv-landcoverX131-lucasXcorineXrf-md-30m\n",
      "lcv-landcoverX131-lucasXcorineXrf-p-30m\n",
      "lcv-landcoverX132-lucasXcorineXrf-md-30m\n",
      "lcv-landcoverX132-lucasXcorineXrf-p-30m\n",
      "lcv-landcoverX133-lucasXcorineXrf-md-30m\n",
      "lcv-landcoverX133-lucasXcorineXrf-p-30m\n",
      "lcv-landcoverX141-lucasXcorineXrf-md-30m\n",
      "lcv-landcoverX141-lucasXcorineXrf-p-30m\n",
      "lcv-landcoverX211-lucasXcorineXrf-md-30m\n",
      "lcv-landcoverX211-lucasXcorineXrf-p-30m\n",
      "lcv-landcoverX212-lucasXcorineXrf-md-30m\n",
      "lcv-landcoverX212-lucasXcorineXrf-p-30m\n",
      "lcv-landcoverX213-lucasXcorineXrf-md-30m\n",
      "lcv-landcoverX213-lucasXcorineXrf-p-30m\n",
      "lcv-landcoverX221-lucasXcorineXrf-md-30m\n",
      "lcv-landcoverX221-lucasXcorineXrf-p-30m\n",
      "lcv-landcoverX222-lucasXcorineXrf-md-30m\n",
      "lcv-landcoverX222-lucasXcorineXrf-p-30m\n",
      "lcv-landcoverX223-lucasXcorineXrf-md-30m\n",
      "lcv-landcoverX223-lucasXcorineXrf-p-30m\n",
      "lcv-landcoverX231-lucasXcorineXrf-md-30m\n",
      "lcv-landcoverX231-lucasXcorineXrf-p-30m\n",
      "lcv-landcoverX311-lucasXcorineXrf-md-30m\n",
      "lcv-landcoverX311-lucasXcorineXrf-p-30m\n",
      "lcv-landcoverX312-lucasXcorineXrf-md-30m\n",
      "lcv-landcoverX312-lucasXcorineXrf-p-30m\n",
      "lcv-landcoverX321-lucasXcorineXrf-md-30m\n",
      "lcv-landcoverX321-lucasXcorineXrf-p-30m\n",
      "lcv-landcoverX322-lucasXcorineXrf-md-30m\n",
      "lcv-landcoverX322-lucasXcorineXrf-p-30m\n",
      "lcv-landcoverX323-lucasXcorineXrf-md-30m\n",
      "lcv-landcoverX323-lucasXcorineXrf-p-30m\n",
      "lcv-landcoverX324-lucasXcorineXrf-md-30m\n",
      "lcv-landcoverX324-lucasXcorineXrf-p-30m\n",
      "lcv-landcoverX331-lucasXcorineXrf-md-30m\n",
      "lcv-landcoverX331-lucasXcorineXrf-p-30m\n",
      "lcv-landcoverX332-lucasXcorineXrf-md-30m\n",
      "lcv-landcoverX332-lucasXcorineXrf-p-30m\n",
      "lcv-landcoverX333-lucasXcorineXrf-md-30m\n",
      "lcv-landcoverX333-lucasXcorineXrf-p-30m\n",
      "lcv-landcoverX334-lucasXcorineXrf-md-30m\n",
      "lcv-landcoverX334-lucasXcorineXrf-p-30m\n",
      "lcv-landcoverX335-lucasXcorineXrf-md-30m\n",
      "lcv-landcoverX335-lucasXcorineXrf-p-30m\n",
      "lcv-landcoverX411-lucasXcorineXrf-md-30m\n",
      "lcv-landcoverX411-lucasXcorineXrf-p-30m\n",
      "lcv-landcoverX421-lucasXcorineXrf-md-30m\n",
      "lcv-landcoverX421-lucasXcorineXrf-p-30m\n",
      "lcv-landcoverX511-lucasXcorineXrf-md-30m\n",
      "lcv-landcoverX511-lucasXcorineXrf-p-30m\n",
      "lcv-landcoverX512-lucasXcorineXrf-md-30m\n",
      "lcv-landcoverX512-lucasXcorineXrf-p-30m\n",
      "lcv-landcoverX521-lucasXcorineXrf-md-30m\n",
      "lcv-landcoverX521-lucasXcorineXrf-p-30m\n",
      "lcv-landcoverX522-lucasXcorineXrf-md-30m\n",
      "lcv-landcoverX522-lucasXcorineXrf-p-30m\n",
      "lcv-landcoverX523-lucasXcorineXrf-md-30m\n",
      "lcv-landcoverX523-lucasXcorineXrf-p-30m\n",
      "lcv-landcoverXclc-corine-c-100m\n",
      "lcv-landcoverXhcl-lucasXcorineXrf-p-30m\n",
      "lcv-ndvi-landsatXgladXard-p50-30m\n",
      "lcv-rgb-landsatXgladXard-p50-30m\n",
      "lcv.building.residential_osm_p_30m_0..0cm_2021_eumap_epsg3035_v0.1\n",
      "lcv_building.commercial_osm_p_30m_0..0cm_2021_eumap_epsg3035_v0.1\n",
      "lcv_building.industrial_osm_p_30m_0..0cm_2021_eumap_epsg3035_v0.1\n",
      "lcv_building.residential_osm_p_30m_0..0cm_2021_eumap_epsg3035_v0.1\n",
      "lcv_building_copernicus.osm_p_30m_0..0cm_2018..2021_eumap_epsg3035_v0.1\n",
      "lcv_cemetery_osm_p_30m_0..0cm_2021_eumap_epsg3035_v0\n",
      "lcv_construction.site_osm_p_30m_0..0cm_2021_eumap_epsg3035_v0\n",
      "lcv_dump.site_osm_p_30m_0..0cm_2021_eumap_epsg3035_v0\n",
      "lcv_farmland_osm_p_30m_0..0cm_2021_eumap_epsg3035_v0.1\n",
      "lcv_farmyard_osm_p_30m_0..0cm_2021_eumap_epsg3035_v0.1\n",
      "lcv_forest_osm_p_30m_0..0cm_2021_eumap_epsg3035_v0.1\n",
      "lcv_grass_osm_p_30m_0..0cm_2021_eumap_epsg3035_v0.1\n",
      "lcv_greenhouse_osm_p_30m_0..0cm_2021_eumap_epsg3035_v0.1\n",
      "lcv_harbour_osm_p_30m_0..0cm_2021_eumap_epsg3035_v0\n",
      "lcv_landcover.211_lucas.corine.ols_r2_30m_0..0cm_2000_eumap_epsg3035_v0.1\n",
      "lcv_landcover.211_lucas.corine.slope_md_30m_0..0cm_2000_eumap_epsg3035_v0.1\n",
      "lcv_landcover.211_lucas.corine.slope_p_30m_0..0cm_2000_eumap_epsg3035_v0.1\n",
      "lcv_landcover.231_lucas.corine.ols_r2_30m_0..0cm_2000_eumap_epsg3035_v0.1\n",
      "lcv_landcover.231_lucas.corine.slope_md_30m_0..0cm_2000_eumap_epsg3035_v0.1\n",
      "lcv_landcover.231_lucas.corine.slope_p_30m_0..0cm_2000_eumap_epsg3035_v0.1\n",
      "lcv_landcover.311_lucas.corine.ols_r2_30m_0..0cm_2000_eumap_epsg3035_v0.1\n",
      "lcv_landcover.311_lucas.corine.slope_md_30m_0..0cm_2000_eumap_epsg3035_v0.1\n",
      "lcv_landcover.311_lucas.corine.slope_p_30m_0..0cm_2000_eumap_epsg3035_v0.1\n",
      "lcv_landcover.312_lucas.corine.ols_r2_30m_0..0cm_2000_eumap_epsg3035_v0.1\n",
      "lcv_landcover.312_lucas.corine.slope_md_30m_0..0cm_2000_eumap_epsg3035_v0.1\n",
      "lcv_landcover.312_lucas.corine.slope_p_30m_0..0cm_2000_eumap_epsg3035_v0.1\n",
      "lcv_landcover.hcl.change_lucas.corine.rf.t3_c_30m_0..0cm_2001..2018_eumap_epsg3035_v0.1\n",
      "lcv_landcover.hcl.change_lucas.corine.rf.t3_md_30m_0..0cm_2001..2018_eumap_epsg3035_v0.1\n",
      "lcv_meadow_osm_p_30m_0..0cm_2021_eumap_epsg3035_v0.1\n",
      "lcv_military_osm_p_30m_0..0cm_2021_eumap_epsg3035_v0\n",
      "lcv_ndvi_landsat.glad.trend.ols_r2_30m_0..0cm_2000..2019_eumap_epsg3035_v1.0\n",
      "lcv_ndvi_landsat.glad.trend.slope_md_30m_0..0cm_2000..2019_eumap_epsg3035_v1.0\n",
      "lcv_ndvi_landsat.glad.trend.slope_p50_30m_0..0cm_2000..2019_eumap_epsg3035_v1.0\n",
      "lcv_orchard_osm_p_30m_0..0cm_2021_eumap_epsg3035_v0\n",
      "lcv_point_samples\n",
      "lcv_quarry_osm_p_30m_0..0cm_2021_eumap_epsg3035_v0\n",
      "lcv_railway_osm_p_30m_0..0cm_2021_eumap_epsg3035_v0\n",
      "lcv_reservoir_osm_p_30m_0..0cm_2021_eumap_epsg3035_v0\n",
      "lcv_road_osm_p_30m_0..0cm_2021_eumap_epsg3035_v0.1\n",
      "lcv_salt_osm_p_30m_0..0cm_2021_eumap_epsg3035_v0.1\n",
      "lcv_vineyard_osm_p_30m_0..0cm_2021_eumap_epsg3035_v0.1\n",
      "nuts_rg_01m_2021_4326_levl_3\n",
      "s2l2a_ard_20180625_20180912_p50_cog\n",
      "s2l2a_ard_20180625_20180912_p50_ssd\n",
      "tree_species_occ_harmonized_final\n"
     ]
    }
   ],
   "source": [
    "# TODO list all layers\n",
    "for item in wms.contents:\n",
    "    print(item)"
   ]
  },
  {
   "cell_type": "markdown",
   "id": "0e0e6261",
   "metadata": {},
   "source": [
    "#### Get layer by name a print its bounding box."
   ]
  },
  {
   "cell_type": "code",
   "execution_count": 14,
   "id": "db071c83",
   "metadata": {},
   "outputs": [
    {
     "name": "stdout",
     "output_type": "stream",
     "text": [
      "(900000.0, 930010.0, 6540000.0, 5460010.0, 'EPSG:3035') \n",
      " (-55.96179950225132, 24.535732807579436, 61.09769682534348, 71.61287163723048)\n"
     ]
    }
   ],
   "source": [
    "layer = \"lcv-landcoverXhcl-lucasXcorineXrf-p-30m\"\n",
    "print(wms.contents[layer].boundingBox, '\\n',\n",
    "      wms.contents[layer].boundingBoxWGS84)"
   ]
  },
  {
   "cell_type": "markdown",
   "id": "14778f56",
   "metadata": {},
   "source": [
    "#### Get layer by bbox and show the preview (image)."
   ]
  },
  {
   "cell_type": "code",
   "execution_count": 15,
   "id": "59864eab",
   "metadata": {},
   "outputs": [
    {
     "data": {
      "image/png": "[encoded data removed]",
      "text/plain": [
       "<IPython.core.display.Image object>"
      ]
     },
     "execution_count": 15,
     "metadata": {},
     "output_type": "execute_result"
    }
   ],
   "source": [
    "from IPython.display import Image\n",
    "\n",
    "img = wms.getmap(\n",
    "    layers=[layer],\n",
    "    size=[800, 600],\n",
    "    srs=\"EPSG:3035\",\n",
    "    bbox=[900000.0, 930010.0, 6540000.0, 5460010.0],\n",
    "    format=\"image/png\"\n",
    ")\n",
    "\n",
    "Image(img.read())"
   ]
  }
 ],
 "metadata": {
  "kernelspec": {
   "display_name": "Python 3",
   "language": "python",
   "name": "python3"
  },
  "language_info": {
   "codemirror_mode": {
    "name": "ipython",
    "version": 3
   },
   "file_extension": ".py",
   "mimetype": "text/x-python",
   "name": "python",
   "nbconvert_exporter": "python",
   "pygments_lexer": "ipython3",
   "version": "3.9.2"
  }
 },
 "nbformat": 4,
 "nbformat_minor": 5
}
